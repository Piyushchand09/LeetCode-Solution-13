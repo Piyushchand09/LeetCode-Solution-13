{
 "cells": [
  {
   "cell_type": "code",
   "execution_count": null,
   "id": "a591f125",
   "metadata": {
    "vscode": {
     "languageId": "plaintext"
    }
   },
   "outputs": [],
   "source": [
    "# Minimum Number of Operations to Make Elements in Array Distinct\n",
    "from typing import List\n",
    "\n",
    "class Solution:\n",
    "    def minimumOperations(self, nums: List[int]) -> int:\n",
    "        def is_distinct(arr: List[int]) -> bool:\n",
    "            return len(set(arr)) == len(arr)\n",
    "\n",
    "        remaining_nums = list(reversed(nums))\n",
    "        num_ops = 0\n",
    "\n",
    "        while not is_distinct(remaining_nums):\n",
    "            i = 0\n",
    "            while remaining_nums and i < 3:\n",
    "                remaining_nums.pop()\n",
    "                i += 1\n",
    "            num_ops += 1\n",
    "\n",
    "        return num_ops\n"
   ]
  }
 ],
 "metadata": {
  "kernelspec": {
   "display_name": "Python 3 (ipykernel)",
   "language": "python",
   "name": "python3"
  },
  "language_info": {
   "codemirror_mode": {
    "name": "ipython",
    "version": 3
   },
   "file_extension": ".py",
   "mimetype": "text/x-python",
   "name": "python",
   "nbconvert_exporter": "python",
   "pygments_lexer": "ipython3",
   "version": "3.12.4"
  }
 },
 "nbformat": 4,
 "nbformat_minor": 5
}
